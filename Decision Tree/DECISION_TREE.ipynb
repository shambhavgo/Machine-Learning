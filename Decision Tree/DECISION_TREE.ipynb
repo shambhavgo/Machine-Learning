{
 "cells": [
  {
   "cell_type": "code",
   "execution_count": 1,
   "metadata": {},
   "outputs": [],
   "source": [
    "#Importing libraries\n",
    "import numpy as np\n",
    "from decisiontree import D_TREE"
   ]
  },
  {
   "cell_type": "code",
   "execution_count": 2,
   "metadata": {},
   "outputs": [],
   "source": [
    "#Importing data set\n",
    "from sklearn.datasets import load_breast_cancer\n",
    "data = load_breast_cancer()\n",
    "\n",
    "\n",
    "X=data['data']\n",
    "Y=data['target']\n",
    "Y=np.reshape(Y,(Y.shape[0],1))\n",
    "X=X[:,:5]\n",
    "X=np.append(X,Y,axis=1)"
   ]
  },
  {
   "cell_type": "code",
   "execution_count": 3,
   "metadata": {},
   "outputs": [],
   "source": [
    "#Separating training set and test set\n",
    "sz = len(X)//4\n",
    "X_test=X[:sz,:]\n",
    "X_train=X[sz:,:]   #X_train already contains Y_train as its last column so no need to define it separately\n",              
    "Y_test=X_test[:,-1]\n",
    "n=X.shape[1]"
   ]
  },
  {
   "cell_type": "code",
   "execution_count": 4,
   "metadata": {},
   "outputs": [],
   "source": [
    "#Training the algorithm\n",
    "train=D_TREE()\n",
    "train.fit(X_train)"
   ]
  },
  {
   "cell_type": "code",
   "execution_count": 22,
   "metadata": {},
   "outputs": [],
   "source": [
    "#Predictions on test data\n",
    "y_pred=train.pred(X_test)"
   ]
  },
  {
   "cell_type": "code",
   "execution_count": 21,
   "metadata": {},
   "outputs": [
    {
     "name": "stdout",
     "output_type": "stream",
     "text": [
      "{1.0: '100.0%'}\n",
      "{0.0: '100.0%'}\n",
      "{0.0: '100.0%'}\n",
      "{1.0: '100.0%'}\n",
      "{0.0: '100.0%'}\n",
      "{1.0: '100.0%'}\n",
      "{0.0: '100.0%'}\n",
      "{0.0: '100.0%'}\n",
      "{0.0: '100.0%'}\n",
      "{1.0: '100.0%'}\n"
     ]
    }
   ],
   "source": [
    "#A few predictions\n",
    "for i in range(10):\n",
    "    train.print_leaf(train.check_testing_data(X_test[i],train.my_tree))"
   ]
  },
  {
   "cell_type": "code",
   "execution_count": 18,
   "metadata": {},
   "outputs": [
    {
     "name": "stdout",
     "output_type": "stream",
     "text": [
      "Accuracy of my model :  80.28169014084507 %\n"
     ]
    }
   ],
   "source": [
    "print(\"Accuracy of my model : \",train.accuracy(Y_test,y_pred),\"%\")"
   ]
  },
  {
   "cell_type": "code",
   "execution_count": 17,
   "metadata": {},
   "outputs": [
    {
     "name": "stdout",
     "output_type": "stream",
     "text": [
      "accuracy of sklearn model =  80.28169014084507 %\n"
     ]
    }
   ],
   "source": [
    "#calculating accuracy using sklearn model\n",
    "from sklearn import tree\n",
    "clf = tree.DecisionTreeClassifier()\n",
    "clf = clf.fit(X_train[:,0:n-1], Y_train)\n",
    "y_pred=clf.predict(X_test[:,:n-1])\n",
    "error=(y_pred==Y_test.flatten())\n",
    "print(\"accuracy of sklearn model = \",np.mean(error)*100,\"%\")"
   ]
  }
 ],
 "metadata": {
  "kernelspec": {
   "display_name": "Python 3",
   "language": "python",
   "name": "python3"
  },
  "language_info": {
   "codemirror_mode": {
    "name": "ipython",
    "version": 3
   },
   "file_extension": ".py",
   "mimetype": "text/x-python",
   "name": "python",
   "nbconvert_exporter": "python",
   "pygments_lexer": "ipython3",
   "version": "3.7.0"
  }
 },
 "nbformat": 4,
 "nbformat_minor": 3
}
